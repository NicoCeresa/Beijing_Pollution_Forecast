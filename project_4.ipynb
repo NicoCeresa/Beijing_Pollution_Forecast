{
 "cells": [
  {
   "cell_type": "markdown",
   "id": "b6281d88",
   "metadata": {
    "papermill": {
     "duration": 0.014541,
     "end_time": "2022-09-09T23:23:52.719254",
     "exception": false,
     "start_time": "2022-09-09T23:23:52.704713",
     "status": "completed"
    },
    "tags": []
   },
   "source": [
    "## Import Packages"
   ]
  },
  {
   "cell_type": "code",
   "execution_count": 2,
   "id": "b7a5bb60",
   "metadata": {
    "_cell_guid": "b1076dfc-b9ad-4769-8c92-a6c4dae69d19",
    "_uuid": "8f2839f25d086af736a60e9eeb907d3b93b6e0e5",
    "execution": {
     "iopub.execute_input": "2022-09-09T23:23:52.747470Z",
     "iopub.status.busy": "2022-09-09T23:23:52.746990Z",
     "iopub.status.idle": "2022-09-09T23:24:00.110602Z",
     "shell.execute_reply": "2022-09-09T23:24:00.109277Z"
    },
    "papermill": {
     "duration": 7.380841,
     "end_time": "2022-09-09T23:24:00.113258",
     "exception": false,
     "start_time": "2022-09-09T23:23:52.732417",
     "status": "completed"
    },
    "tags": []
   },
   "outputs": [
    {
     "ename": "OSError",
     "evalue": "dlopen(/Library/Frameworks/Python.framework/Versions/3.10/lib/python3.10/site-packages/tensorflow/python/platform/../../core/platform/_cpu_feature_guard.so, 0x0006): tried: '/Library/Frameworks/Python.framework/Versions/3.10/lib/python3.10/site-packages/tensorflow/python/platform/../../core/platform/_cpu_feature_guard.so' (mach-o file, but is an incompatible architecture (have (arm64), need (x86_64))), '/Library/Frameworks/Python.framework/Versions/3.10/lib/python3.10/site-packages/tensorflow/core/platform/_cpu_feature_guard.so' (mach-o file, but is an incompatible architecture (have (arm64), need (x86_64)))",
     "output_type": "error",
     "traceback": [
      "\u001b[0;31m---------------------------------------------------------------------------\u001b[0m",
      "\u001b[0;31mOSError\u001b[0m                                   Traceback (most recent call last)",
      "\u001b[1;32m/Users/nicoceresa/CS372M/project_4/project_4.ipynb Cell 2\u001b[0m in \u001b[0;36m<cell line: 4>\u001b[0;34m()\u001b[0m\n\u001b[1;32m      <a href='vscode-notebook-cell:/Users/nicoceresa/CS372M/project_4/project_4.ipynb#W1sZmlsZQ%3D%3D?line=0'>1</a>\u001b[0m \u001b[39mimport\u001b[39;00m \u001b[39mwarnings\u001b[39;00m\n\u001b[1;32m      <a href='vscode-notebook-cell:/Users/nicoceresa/CS372M/project_4/project_4.ipynb#W1sZmlsZQ%3D%3D?line=1'>2</a>\u001b[0m warnings\u001b[39m.\u001b[39mfilterwarnings(\u001b[39m'\u001b[39m\u001b[39mignore\u001b[39m\u001b[39m'\u001b[39m)\n\u001b[0;32m----> <a href='vscode-notebook-cell:/Users/nicoceresa/CS372M/project_4/project_4.ipynb#W1sZmlsZQ%3D%3D?line=3'>4</a>\u001b[0m \u001b[39mimport\u001b[39;00m \u001b[39mtensorflow\u001b[39;00m \u001b[39mas\u001b[39;00m \u001b[39mtf\u001b[39;00m\n\u001b[1;32m      <a href='vscode-notebook-cell:/Users/nicoceresa/CS372M/project_4/project_4.ipynb#W1sZmlsZQ%3D%3D?line=4'>5</a>\u001b[0m \u001b[39mimport\u001b[39;00m \u001b[39mos\u001b[39;00m\n\u001b[1;32m      <a href='vscode-notebook-cell:/Users/nicoceresa/CS372M/project_4/project_4.ipynb#W1sZmlsZQ%3D%3D?line=5'>6</a>\u001b[0m \u001b[39mimport\u001b[39;00m \u001b[39mnumpy\u001b[39;00m \u001b[39mas\u001b[39;00m \u001b[39mnp\u001b[39;00m\n",
      "File \u001b[0;32m/Library/Frameworks/Python.framework/Versions/3.10/lib/python3.10/site-packages/tensorflow/__init__.py:37\u001b[0m, in \u001b[0;36m<module>\u001b[0;34m\u001b[0m\n\u001b[1;32m     34\u001b[0m \u001b[39mimport\u001b[39;00m \u001b[39msys\u001b[39;00m \u001b[39mas\u001b[39;00m \u001b[39m_sys\u001b[39;00m\n\u001b[1;32m     35\u001b[0m \u001b[39mimport\u001b[39;00m \u001b[39mtyping\u001b[39;00m \u001b[39mas\u001b[39;00m \u001b[39m_typing\u001b[39;00m\n\u001b[0;32m---> 37\u001b[0m \u001b[39mfrom\u001b[39;00m \u001b[39mtensorflow\u001b[39;00m\u001b[39m.\u001b[39;00m\u001b[39mpython\u001b[39;00m\u001b[39m.\u001b[39;00m\u001b[39mtools\u001b[39;00m \u001b[39mimport\u001b[39;00m module_util \u001b[39mas\u001b[39;00m _module_util\n\u001b[1;32m     38\u001b[0m \u001b[39mfrom\u001b[39;00m \u001b[39mtensorflow\u001b[39;00m\u001b[39m.\u001b[39;00m\u001b[39mpython\u001b[39;00m\u001b[39m.\u001b[39;00m\u001b[39mutil\u001b[39;00m\u001b[39m.\u001b[39;00m\u001b[39mlazy_loader\u001b[39;00m \u001b[39mimport\u001b[39;00m LazyLoader \u001b[39mas\u001b[39;00m _LazyLoader\n\u001b[1;32m     40\u001b[0m \u001b[39m# Make sure code inside the TensorFlow codebase can use tf2.enabled() at import.\u001b[39;00m\n",
      "File \u001b[0;32m/Library/Frameworks/Python.framework/Versions/3.10/lib/python3.10/site-packages/tensorflow/python/__init__.py:36\u001b[0m, in \u001b[0;36m<module>\u001b[0;34m\u001b[0m\n\u001b[1;32m     27\u001b[0m \u001b[39mimport\u001b[39;00m \u001b[39mtraceback\u001b[39;00m\n\u001b[1;32m     29\u001b[0m \u001b[39m# We aim to keep this file minimal and ideally remove completely.\u001b[39;00m\n\u001b[1;32m     30\u001b[0m \u001b[39m# If you are adding a new file with @tf_export decorators,\u001b[39;00m\n\u001b[1;32m     31\u001b[0m \u001b[39m# import it in modules_with_exports.py instead.\u001b[39;00m\n\u001b[1;32m     32\u001b[0m \n\u001b[1;32m     33\u001b[0m \u001b[39m# go/tf-wildcard-import\u001b[39;00m\n\u001b[1;32m     34\u001b[0m \u001b[39m# pylint: disable=wildcard-import,g-bad-import-order,g-import-not-at-top\u001b[39;00m\n\u001b[0;32m---> 36\u001b[0m \u001b[39mfrom\u001b[39;00m \u001b[39mtensorflow\u001b[39;00m\u001b[39m.\u001b[39;00m\u001b[39mpython\u001b[39;00m \u001b[39mimport\u001b[39;00m pywrap_tensorflow \u001b[39mas\u001b[39;00m _pywrap_tensorflow\n\u001b[1;32m     37\u001b[0m \u001b[39mfrom\u001b[39;00m \u001b[39mtensorflow\u001b[39;00m\u001b[39m.\u001b[39;00m\u001b[39mpython\u001b[39;00m\u001b[39m.\u001b[39;00m\u001b[39meager\u001b[39;00m \u001b[39mimport\u001b[39;00m context\n\u001b[1;32m     39\u001b[0m \u001b[39m# pylint: enable=wildcard-import\u001b[39;00m\n\u001b[1;32m     40\u001b[0m \n\u001b[1;32m     41\u001b[0m \u001b[39m# Bring in subpackages.\u001b[39;00m\n",
      "File \u001b[0;32m/Library/Frameworks/Python.framework/Versions/3.10/lib/python3.10/site-packages/tensorflow/python/pywrap_tensorflow.py:26\u001b[0m, in \u001b[0;36m<module>\u001b[0;34m\u001b[0m\n\u001b[1;32m     21\u001b[0m \u001b[39mfrom\u001b[39;00m \u001b[39mtensorflow\u001b[39;00m\u001b[39m.\u001b[39;00m\u001b[39mpython\u001b[39;00m\u001b[39m.\u001b[39;00m\u001b[39mplatform\u001b[39;00m \u001b[39mimport\u001b[39;00m self_check\n\u001b[1;32m     23\u001b[0m \u001b[39m# TODO(mdan): Cleanup antipattern: import for side effects.\u001b[39;00m\n\u001b[1;32m     24\u001b[0m \n\u001b[1;32m     25\u001b[0m \u001b[39m# Perform pre-load sanity checks in order to produce a more actionable error.\u001b[39;00m\n\u001b[0;32m---> 26\u001b[0m self_check\u001b[39m.\u001b[39;49mpreload_check()\n\u001b[1;32m     28\u001b[0m \u001b[39m# pylint: disable=wildcard-import,g-import-not-at-top,unused-import,line-too-long\u001b[39;00m\n\u001b[1;32m     30\u001b[0m \u001b[39mtry\u001b[39;00m:\n\u001b[1;32m     31\u001b[0m   \u001b[39m# This import is expected to fail if there is an explicit shared object\u001b[39;00m\n\u001b[1;32m     32\u001b[0m   \u001b[39m# dependency (with_framework_lib=true), since we do not need RTLD_GLOBAL.\u001b[39;00m\n",
      "File \u001b[0;32m/Library/Frameworks/Python.framework/Versions/3.10/lib/python3.10/site-packages/tensorflow/python/platform/self_check.py:65\u001b[0m, in \u001b[0;36mpreload_check\u001b[0;34m()\u001b[0m\n\u001b[1;32m     58\u001b[0m \u001b[39melse\u001b[39;00m:\n\u001b[1;32m     59\u001b[0m   \u001b[39m# Load a library that performs CPU feature guard checking as a part of its\u001b[39;00m\n\u001b[1;32m     60\u001b[0m   \u001b[39m# static initialization. Doing this here as a preload check makes it more\u001b[39;00m\n\u001b[1;32m     61\u001b[0m   \u001b[39m# likely that we detect any CPU feature incompatibilities before we trigger\u001b[39;00m\n\u001b[1;32m     62\u001b[0m   \u001b[39m# them (which would typically result in SIGILL).\u001b[39;00m\n\u001b[1;32m     63\u001b[0m   cpu_feature_guard_library \u001b[39m=\u001b[39m os\u001b[39m.\u001b[39mpath\u001b[39m.\u001b[39mjoin(\n\u001b[1;32m     64\u001b[0m       os\u001b[39m.\u001b[39mpath\u001b[39m.\u001b[39mdirname(\u001b[39m__file__\u001b[39m), \u001b[39m\"\u001b[39m\u001b[39m../../core/platform/_cpu_feature_guard.so\u001b[39m\u001b[39m\"\u001b[39m)\n\u001b[0;32m---> 65\u001b[0m   ctypes\u001b[39m.\u001b[39;49mCDLL(cpu_feature_guard_library)\n",
      "File \u001b[0;32m/Library/Frameworks/Python.framework/Versions/3.10/lib/python3.10/ctypes/__init__.py:374\u001b[0m, in \u001b[0;36mCDLL.__init__\u001b[0;34m(self, name, mode, handle, use_errno, use_last_error, winmode)\u001b[0m\n\u001b[1;32m    371\u001b[0m \u001b[39mself\u001b[39m\u001b[39m.\u001b[39m_FuncPtr \u001b[39m=\u001b[39m _FuncPtr\n\u001b[1;32m    373\u001b[0m \u001b[39mif\u001b[39;00m handle \u001b[39mis\u001b[39;00m \u001b[39mNone\u001b[39;00m:\n\u001b[0;32m--> 374\u001b[0m     \u001b[39mself\u001b[39m\u001b[39m.\u001b[39m_handle \u001b[39m=\u001b[39m _dlopen(\u001b[39mself\u001b[39;49m\u001b[39m.\u001b[39;49m_name, mode)\n\u001b[1;32m    375\u001b[0m \u001b[39melse\u001b[39;00m:\n\u001b[1;32m    376\u001b[0m     \u001b[39mself\u001b[39m\u001b[39m.\u001b[39m_handle \u001b[39m=\u001b[39m handle\n",
      "\u001b[0;31mOSError\u001b[0m: dlopen(/Library/Frameworks/Python.framework/Versions/3.10/lib/python3.10/site-packages/tensorflow/python/platform/../../core/platform/_cpu_feature_guard.so, 0x0006): tried: '/Library/Frameworks/Python.framework/Versions/3.10/lib/python3.10/site-packages/tensorflow/python/platform/../../core/platform/_cpu_feature_guard.so' (mach-o file, but is an incompatible architecture (have (arm64), need (x86_64))), '/Library/Frameworks/Python.framework/Versions/3.10/lib/python3.10/site-packages/tensorflow/core/platform/_cpu_feature_guard.so' (mach-o file, but is an incompatible architecture (have (arm64), need (x86_64)))"
     ]
    }
   ],
   "source": [
    "warnings.filterwarnings('ignore')\n",
    "\n",
    "import tensorflow as tf\n",
    "import os\n",
    "import numpy as np\n",
    "import pandas as pd\n",
    "import matplotlib.pyplot as plt\n",
    "from tensorflow.keras.models import Sequential, load_model\n",
    "from tensorflow.keras.layers import *\n",
    "from sklearn.metrics import mean_squared_error as mse\n",
    "from tensorflow.keras.callbacks import ModelCheckpoint\n",
    "from tensorflow.keras.losses import MeanSquaredError\n",
    "from tensorflow.keras.metrics import RootMeanSquaredError\n",
    "from tensorflow.keras.optimizers import Adam\n",
    "print('Imports Complete')"
   ]
  },
  {
   "cell_type": "markdown",
   "id": "d3803652",
   "metadata": {
    "papermill": {
     "duration": 0.014291,
     "end_time": "2022-09-09T23:24:00.141239",
     "exception": false,
     "start_time": "2022-09-09T23:24:00.126948",
     "status": "completed"
    },
    "tags": []
   },
   "source": [
    "## Load Data"
   ]
  },
  {
   "cell_type": "code",
   "execution_count": 2,
   "id": "c45cde2c",
   "metadata": {
    "execution": {
     "iopub.execute_input": "2022-09-09T23:24:00.169885Z",
     "iopub.status.busy": "2022-09-09T23:24:00.168446Z",
     "iopub.status.idle": "2022-09-09T23:24:00.354452Z",
     "shell.execute_reply": "2022-09-09T23:24:00.353050Z"
    },
    "papermill": {
     "duration": 0.203266,
     "end_time": "2022-09-09T23:24:00.357445",
     "exception": false,
     "start_time": "2022-09-09T23:24:00.154179",
     "status": "completed"
    },
    "tags": []
   },
   "outputs": [
    {
     "data": {
      "text/html": [
       "<div>\n",
       "<style scoped>\n",
       "    .dataframe tbody tr th:only-of-type {\n",
       "        vertical-align: middle;\n",
       "    }\n",
       "\n",
       "    .dataframe tbody tr th {\n",
       "        vertical-align: top;\n",
       "    }\n",
       "\n",
       "    .dataframe thead th {\n",
       "        text-align: right;\n",
       "    }\n",
       "</style>\n",
       "<table border=\"1\" class=\"dataframe\">\n",
       "  <thead>\n",
       "    <tr style=\"text-align: right;\">\n",
       "      <th></th>\n",
       "      <th>date</th>\n",
       "      <th>pollution</th>\n",
       "      <th>dew</th>\n",
       "      <th>temp</th>\n",
       "      <th>press</th>\n",
       "      <th>wnd_dir</th>\n",
       "      <th>wnd_spd</th>\n",
       "      <th>snow</th>\n",
       "      <th>rain</th>\n",
       "    </tr>\n",
       "  </thead>\n",
       "  <tbody>\n",
       "    <tr>\n",
       "      <th>0</th>\n",
       "      <td>2010-01-02 00:00:00</td>\n",
       "      <td>129.0</td>\n",
       "      <td>-16</td>\n",
       "      <td>-4.0</td>\n",
       "      <td>1020.0</td>\n",
       "      <td>SE</td>\n",
       "      <td>1.79</td>\n",
       "      <td>0</td>\n",
       "      <td>0</td>\n",
       "    </tr>\n",
       "    <tr>\n",
       "      <th>1</th>\n",
       "      <td>2010-01-02 01:00:00</td>\n",
       "      <td>148.0</td>\n",
       "      <td>-15</td>\n",
       "      <td>-4.0</td>\n",
       "      <td>1020.0</td>\n",
       "      <td>SE</td>\n",
       "      <td>2.68</td>\n",
       "      <td>0</td>\n",
       "      <td>0</td>\n",
       "    </tr>\n",
       "    <tr>\n",
       "      <th>2</th>\n",
       "      <td>2010-01-02 02:00:00</td>\n",
       "      <td>159.0</td>\n",
       "      <td>-11</td>\n",
       "      <td>-5.0</td>\n",
       "      <td>1021.0</td>\n",
       "      <td>SE</td>\n",
       "      <td>3.57</td>\n",
       "      <td>0</td>\n",
       "      <td>0</td>\n",
       "    </tr>\n",
       "    <tr>\n",
       "      <th>3</th>\n",
       "      <td>2010-01-02 03:00:00</td>\n",
       "      <td>181.0</td>\n",
       "      <td>-7</td>\n",
       "      <td>-5.0</td>\n",
       "      <td>1022.0</td>\n",
       "      <td>SE</td>\n",
       "      <td>5.36</td>\n",
       "      <td>1</td>\n",
       "      <td>0</td>\n",
       "    </tr>\n",
       "    <tr>\n",
       "      <th>4</th>\n",
       "      <td>2010-01-02 04:00:00</td>\n",
       "      <td>138.0</td>\n",
       "      <td>-7</td>\n",
       "      <td>-5.0</td>\n",
       "      <td>1022.0</td>\n",
       "      <td>SE</td>\n",
       "      <td>6.25</td>\n",
       "      <td>2</td>\n",
       "      <td>0</td>\n",
       "    </tr>\n",
       "  </tbody>\n",
       "</table>\n",
       "</div>"
      ],
      "text/plain": [
       "                  date  pollution  dew  temp   press wnd_dir  wnd_spd  snow  \\\n",
       "0  2010-01-02 00:00:00      129.0  -16  -4.0  1020.0      SE     1.79     0   \n",
       "1  2010-01-02 01:00:00      148.0  -15  -4.0  1020.0      SE     2.68     0   \n",
       "2  2010-01-02 02:00:00      159.0  -11  -5.0  1021.0      SE     3.57     0   \n",
       "3  2010-01-02 03:00:00      181.0   -7  -5.0  1022.0      SE     5.36     1   \n",
       "4  2010-01-02 04:00:00      138.0   -7  -5.0  1022.0      SE     6.25     2   \n",
       "\n",
       "   rain  \n",
       "0     0  \n",
       "1     0  \n",
       "2     0  \n",
       "3     0  \n",
       "4     0  "
      ]
     },
     "execution_count": 2,
     "metadata": {},
     "output_type": "execute_result"
    }
   ],
   "source": [
    "train = pd.read_csv('./data/LSTM-Multivariate_pollution.csv')\n",
    "train.head()"
   ]
  },
  {
   "cell_type": "code",
   "execution_count": 3,
   "id": "255fbae8",
   "metadata": {
    "execution": {
     "iopub.execute_input": "2022-09-09T23:24:00.386772Z",
     "iopub.status.busy": "2022-09-09T23:24:00.386378Z",
     "iopub.status.idle": "2022-09-09T23:24:00.393222Z",
     "shell.execute_reply": "2022-09-09T23:24:00.392059Z"
    },
    "papermill": {
     "duration": 0.024302,
     "end_time": "2022-09-09T23:24:00.395496",
     "exception": false,
     "start_time": "2022-09-09T23:24:00.371194",
     "status": "completed"
    },
    "tags": []
   },
   "outputs": [
    {
     "data": {
      "text/plain": [
       "(43800, 9)"
      ]
     },
     "execution_count": 3,
     "metadata": {},
     "output_type": "execute_result"
    }
   ],
   "source": [
    "train.shape"
   ]
  },
  {
   "cell_type": "code",
   "execution_count": 4,
   "id": "0dccaea9",
   "metadata": {
    "execution": {
     "iopub.execute_input": "2022-09-09T23:24:00.424818Z",
     "iopub.status.busy": "2022-09-09T23:24:00.423676Z",
     "iopub.status.idle": "2022-09-09T23:24:00.446362Z",
     "shell.execute_reply": "2022-09-09T23:24:00.445332Z"
    },
    "papermill": {
     "duration": 0.039979,
     "end_time": "2022-09-09T23:24:00.448910",
     "exception": false,
     "start_time": "2022-09-09T23:24:00.408931",
     "status": "completed"
    },
    "tags": []
   },
   "outputs": [],
   "source": [
    "train.index = pd.to_datetime(train['date'], format='%Y.%m.%d %H:%M:%S')"
   ]
  },
  {
   "cell_type": "markdown",
   "id": "9582de20",
   "metadata": {
    "papermill": {
     "duration": 0.013252,
     "end_time": "2022-09-09T23:24:00.475792",
     "exception": false,
     "start_time": "2022-09-09T23:24:00.462540",
     "status": "completed"
    },
    "tags": []
   },
   "source": [
    "## Section off target "
   ]
  },
  {
   "cell_type": "code",
   "execution_count": 5,
   "id": "129ee09f",
   "metadata": {
    "execution": {
     "iopub.execute_input": "2022-09-09T23:24:00.505121Z",
     "iopub.status.busy": "2022-09-09T23:24:00.504177Z",
     "iopub.status.idle": "2022-09-09T23:24:00.990534Z",
     "shell.execute_reply": "2022-09-09T23:24:00.989447Z"
    },
    "papermill": {
     "duration": 0.503514,
     "end_time": "2022-09-09T23:24:00.992875",
     "exception": false,
     "start_time": "2022-09-09T23:24:00.489361",
     "status": "completed"
    },
    "tags": []
   },
   "outputs": [
    {
     "data": {
      "text/plain": [
       "<AxesSubplot:xlabel='date'>"
      ]
     },
     "execution_count": 5,
     "metadata": {},
     "output_type": "execute_result"
    },
    {
     "data": {
      "image/png": "[encoded data removed]",
      "text/plain": [
       "<Figure size 640x480 with 1 Axes>"
      ]
     },
     "metadata": {},
     "output_type": "display_data"
    }
   ],
   "source": [
    "poll = train['pollution']\n",
    "poll.plot()"
   ]
  },
  {
   "cell_type": "code",
   "execution_count": 6,
   "id": "c1ca8520",
   "metadata": {
    "execution": {
     "iopub.execute_input": "2022-09-09T23:24:01.025138Z",
     "iopub.status.busy": "2022-09-09T23:24:01.024713Z",
     "iopub.status.idle": "2022-09-09T23:24:01.034706Z",
     "shell.execute_reply": "2022-09-09T23:24:01.033537Z"
    },
    "papermill": {
     "duration": 0.029369,
     "end_time": "2022-09-09T23:24:01.037047",
     "exception": false,
     "start_time": "2022-09-09T23:24:01.007678",
     "status": "completed"
    },
    "tags": []
   },
   "outputs": [
    {
     "data": {
      "text/plain": [
       "array(['SE', 'cv', 'NW', 'NE'], dtype=object)"
      ]
     },
     "execution_count": 6,
     "metadata": {},
     "output_type": "execute_result"
    }
   ],
   "source": [
    "train.wnd_dir.unique()"
   ]
  },
  {
   "cell_type": "markdown",
   "id": "51778891",
   "metadata": {
    "papermill": {
     "duration": 0.013605,
     "end_time": "2022-09-09T23:24:01.064688",
     "exception": false,
     "start_time": "2022-09-09T23:24:01.051083",
     "status": "completed"
    },
    "tags": []
   },
   "source": [
    "### Encode the wind direction"
   ]
  },
  {
   "cell_type": "code",
   "execution_count": 7,
   "id": "1b96d593",
   "metadata": {
    "execution": {
     "iopub.execute_input": "2022-09-09T23:24:01.095644Z",
     "iopub.status.busy": "2022-09-09T23:24:01.095167Z",
     "iopub.status.idle": "2022-09-09T23:24:01.139590Z",
     "shell.execute_reply": "2022-09-09T23:24:01.138453Z"
    },
    "papermill": {
     "duration": 0.062728,
     "end_time": "2022-09-09T23:24:01.142072",
     "exception": false,
     "start_time": "2022-09-09T23:24:01.079344",
     "status": "completed"
    },
    "tags": []
   },
   "outputs": [
    {
     "data": {
      "text/html": [
       "<div>\n",
       "<style scoped>\n",
       "    .dataframe tbody tr th:only-of-type {\n",
       "        vertical-align: middle;\n",
       "    }\n",
       "\n",
       "    .dataframe tbody tr th {\n",
       "        vertical-align: top;\n",
       "    }\n",
       "\n",
       "    .dataframe thead th {\n",
       "        text-align: right;\n",
       "    }\n",
       "</style>\n",
       "<table border=\"1\" class=\"dataframe\">\n",
       "  <thead>\n",
       "    <tr style=\"text-align: right;\">\n",
       "      <th></th>\n",
       "      <th>pollution</th>\n",
       "      <th>dew</th>\n",
       "      <th>temp</th>\n",
       "      <th>press</th>\n",
       "      <th>wnd_spd</th>\n",
       "      <th>snow</th>\n",
       "      <th>rain</th>\n",
       "      <th>wind_dir</th>\n",
       "    </tr>\n",
       "    <tr>\n",
       "      <th>date</th>\n",
       "      <th></th>\n",
       "      <th></th>\n",
       "      <th></th>\n",
       "      <th></th>\n",
       "      <th></th>\n",
       "      <th></th>\n",
       "      <th></th>\n",
       "      <th></th>\n",
       "    </tr>\n",
       "  </thead>\n",
       "  <tbody>\n",
       "    <tr>\n",
       "      <th>2010-01-02 00:00:00</th>\n",
       "      <td>129.0</td>\n",
       "      <td>-16</td>\n",
       "      <td>-4.0</td>\n",
       "      <td>1020.0</td>\n",
       "      <td>1.79</td>\n",
       "      <td>0</td>\n",
       "      <td>0</td>\n",
       "      <td>1</td>\n",
       "    </tr>\n",
       "    <tr>\n",
       "      <th>2010-01-02 01:00:00</th>\n",
       "      <td>148.0</td>\n",
       "      <td>-15</td>\n",
       "      <td>-4.0</td>\n",
       "      <td>1020.0</td>\n",
       "      <td>2.68</td>\n",
       "      <td>0</td>\n",
       "      <td>0</td>\n",
       "      <td>1</td>\n",
       "    </tr>\n",
       "    <tr>\n",
       "      <th>2010-01-02 02:00:00</th>\n",
       "      <td>159.0</td>\n",
       "      <td>-11</td>\n",
       "      <td>-5.0</td>\n",
       "      <td>1021.0</td>\n",
       "      <td>3.57</td>\n",
       "      <td>0</td>\n",
       "      <td>0</td>\n",
       "      <td>1</td>\n",
       "    </tr>\n",
       "    <tr>\n",
       "      <th>2010-01-02 03:00:00</th>\n",
       "      <td>181.0</td>\n",
       "      <td>-7</td>\n",
       "      <td>-5.0</td>\n",
       "      <td>1022.0</td>\n",
       "      <td>5.36</td>\n",
       "      <td>1</td>\n",
       "      <td>0</td>\n",
       "      <td>1</td>\n",
       "    </tr>\n",
       "    <tr>\n",
       "      <th>2010-01-02 04:00:00</th>\n",
       "      <td>138.0</td>\n",
       "      <td>-7</td>\n",
       "      <td>-5.0</td>\n",
       "      <td>1022.0</td>\n",
       "      <td>6.25</td>\n",
       "      <td>2</td>\n",
       "      <td>0</td>\n",
       "      <td>1</td>\n",
       "    </tr>\n",
       "  </tbody>\n",
       "</table>\n",
       "</div>"
      ],
      "text/plain": [
       "                     pollution  dew  temp   press  wnd_spd  snow  rain  \\\n",
       "date                                                                     \n",
       "2010-01-02 00:00:00      129.0  -16  -4.0  1020.0     1.79     0     0   \n",
       "2010-01-02 01:00:00      148.0  -15  -4.0  1020.0     2.68     0     0   \n",
       "2010-01-02 02:00:00      159.0  -11  -5.0  1021.0     3.57     0     0   \n",
       "2010-01-02 03:00:00      181.0   -7  -5.0  1022.0     5.36     1     0   \n",
       "2010-01-02 04:00:00      138.0   -7  -5.0  1022.0     6.25     2     0   \n",
       "\n",
       "                     wind_dir  \n",
       "date                           \n",
       "2010-01-02 00:00:00         1  \n",
       "2010-01-02 01:00:00         1  \n",
       "2010-01-02 02:00:00         1  \n",
       "2010-01-02 03:00:00         1  \n",
       "2010-01-02 04:00:00         1  "
      ]
     },
     "execution_count": 7,
     "metadata": {},
     "output_type": "execute_result"
    }
   ],
   "source": [
    "def wind_encode(s):\n",
    "    if s == \"SE\":\n",
    "        return 1\n",
    "    elif s == \"NE\":\n",
    "        return 2\n",
    "    elif s == \"NW\":\n",
    "        return 3\n",
    "    else:\n",
    "        return 4\n",
    "\n",
    "train[\"wind_dir\"] = train[\"wnd_dir\"].apply(wind_encode)\n",
    "train = train.drop([\"wnd_dir\", 'date'], axis=1).head()\n",
    "train.head()"
   ]
  },
  {
   "cell_type": "markdown",
   "id": "b6ffdc89",
   "metadata": {
    "papermill": {
     "duration": 0.014705,
     "end_time": "2022-09-09T23:24:01.171758",
     "exception": false,
     "start_time": "2022-09-09T23:24:01.157053",
     "status": "completed"
    },
    "tags": []
   },
   "source": [
    "## Split the dataframe into X and y"
   ]
  },
  {
   "cell_type": "code",
   "execution_count": 8,
   "id": "0dfaa2aa",
   "metadata": {
    "execution": {
     "iopub.execute_input": "2022-09-09T23:24:01.202517Z",
     "iopub.status.busy": "2022-09-09T23:24:01.202099Z",
     "iopub.status.idle": "2022-09-09T23:24:01.209590Z",
     "shell.execute_reply": "2022-09-09T23:24:01.208028Z"
    },
    "papermill": {
     "duration": 0.02588,
     "end_time": "2022-09-09T23:24:01.211983",
     "exception": false,
     "start_time": "2022-09-09T23:24:01.186103",
     "status": "completed"
    },
    "tags": []
   },
   "outputs": [],
   "source": [
    "def df_to_X_y(df, window_size):\n",
    "    df_as_np = df.to_numpy()\n",
    "    X = []\n",
    "    y = []\n",
    "    for i in range(len(df_as_np)-window_size):\n",
    "        row = [[a] for a in df_as_np[i:i+5]]\n",
    "        X.append(row)\n",
    "        label = df_as_np[i+5]\n",
    "        y.append(label)\n",
    "    return np.array(X), np.array(y)"
   ]
  },
  {
   "cell_type": "code",
   "execution_count": 9,
   "id": "de8b6da7",
   "metadata": {
    "execution": {
     "iopub.execute_input": "2022-09-09T23:24:01.242461Z",
     "iopub.status.busy": "2022-09-09T23:24:01.241468Z",
     "iopub.status.idle": "2022-09-09T23:24:01.898138Z",
     "shell.execute_reply": "2022-09-09T23:24:01.897150Z"
    },
    "papermill": {
     "duration": 0.674096,
     "end_time": "2022-09-09T23:24:01.900556",
     "exception": false,
     "start_time": "2022-09-09T23:24:01.226460",
     "status": "completed"
    },
    "tags": []
   },
   "outputs": [
    {
     "data": {
      "text/plain": [
       "((43795, 5, 1), (43795,))"
      ]
     },
     "execution_count": 9,
     "metadata": {},
     "output_type": "execute_result"
    }
   ],
   "source": [
    "WINDOW_SIZE=5\n",
    "X, y = df_to_X_y(poll, WINDOW_SIZE)\n",
    "X.shape, y.shape"
   ]
  },
  {
   "cell_type": "code",
   "execution_count": 10,
   "id": "30bf52fb",
   "metadata": {
    "execution": {
     "iopub.execute_input": "2022-09-09T23:24:01.931677Z",
     "iopub.status.busy": "2022-09-09T23:24:01.931212Z",
     "iopub.status.idle": "2022-09-09T23:24:01.937051Z",
     "shell.execute_reply": "2022-09-09T23:24:01.935645Z"
    },
    "papermill": {
     "duration": 0.024221,
     "end_time": "2022-09-09T23:24:01.939269",
     "exception": false,
     "start_time": "2022-09-09T23:24:01.915048",
     "status": "completed"
    },
    "tags": []
   },
   "outputs": [],
   "source": [
    "X_train, y_train = X[:35000], y[:35000]\n",
    "X_val, y_val = X[35000:], y[35000:65000]"
   ]
  },
  {
   "cell_type": "markdown",
   "id": "1533be78",
   "metadata": {
    "papermill": {
     "duration": 0.015077,
     "end_time": "2022-09-09T23:24:01.969173",
     "exception": false,
     "start_time": "2022-09-09T23:24:01.954096",
     "status": "completed"
    },
    "tags": []
   },
   "source": [
    "## Create a basic LSTM model"
   ]
  },
  {
   "cell_type": "code",
   "execution_count": 11,
   "id": "4bf5332d",
   "metadata": {
    "execution": {
     "iopub.execute_input": "2022-09-09T23:24:02.000469Z",
     "iopub.status.busy": "2022-09-09T23:24:01.999984Z",
     "iopub.status.idle": "2022-09-09T23:24:02.425905Z",
     "shell.execute_reply": "2022-09-09T23:24:02.424688Z"
    },
    "papermill": {
     "duration": 0.444497,
     "end_time": "2022-09-09T23:24:02.428607",
     "exception": false,
     "start_time": "2022-09-09T23:24:01.984110",
     "status": "completed"
    },
    "tags": []
   },
   "outputs": [
    {
     "name": "stdout",
     "output_type": "stream",
     "text": [
      "Model: \"sequential\"\n",
      "_________________________________________________________________\n",
      " Layer (type)                Output Shape              Param #   \n",
      "=================================================================\n",
      " lstm (LSTM)                 (None, 64)                16896     \n",
      "                                                                 \n",
      " dense (Dense)               (None, 8)                 520       \n",
      "                                                                 \n",
      " dense_1 (Dense)             (None, 1)                 9         \n",
      "                                                                 \n",
      "=================================================================\n",
      "Total params: 17,425\n",
      "Trainable params: 17,425\n",
      "Non-trainable params: 0\n",
      "_________________________________________________________________\n"
     ]
    }
   ],
   "source": [
    "model1 = Sequential()\n",
    "model1.add(InputLayer((5,1)))\n",
    "model1.add(LSTM(64))\n",
    "model1.add(Dense(8, 'relu'))\n",
    "model1.add(Dense(1, 'linear'))\n",
    "\n",
    "model1.summary()"
   ]
  },
  {
   "cell_type": "markdown",
   "id": "51ffa5ba",
   "metadata": {
    "papermill": {
     "duration": 0.014005,
     "end_time": "2022-09-09T23:24:02.457119",
     "exception": false,
     "start_time": "2022-09-09T23:24:02.443114",
     "status": "completed"
    },
    "tags": []
   },
   "source": [
    "### Create a checkpoint and compile"
   ]
  },
  {
   "cell_type": "code",
   "execution_count": 14,
   "id": "8224a88b",
   "metadata": {
    "execution": {
     "iopub.execute_input": "2022-09-09T23:24:02.488017Z",
     "iopub.status.busy": "2022-09-09T23:24:02.486950Z",
     "iopub.status.idle": "2022-09-09T23:24:02.503780Z",
     "shell.execute_reply": "2022-09-09T23:24:02.502657Z"
    },
    "papermill": {
     "duration": 0.034692,
     "end_time": "2022-09-09T23:24:02.506173",
     "exception": false,
     "start_time": "2022-09-09T23:24:02.471481",
     "status": "completed"
    },
    "tags": []
   },
   "outputs": [],
   "source": [
    "cp = ModelCheckpoint('model1/', save_best_only=True)\n",
    "model1.compile(loss='mse', optimizer=Adam(learning_rate=0.0001), metrics=[RootMeanSquaredError()])"
   ]
  },
  {
   "cell_type": "code",
   "execution_count": 15,
   "id": "d0597f87",
   "metadata": {
    "execution": {
     "iopub.execute_input": "2022-09-09T23:24:02.537871Z",
     "iopub.status.busy": "2022-09-09T23:24:02.537192Z",
     "iopub.status.idle": "2022-09-09T23:26:26.224862Z",
     "shell.execute_reply": "2022-09-09T23:26:26.223883Z"
    },
    "papermill": {
     "duration": 143.78012,
     "end_time": "2022-09-09T23:26:26.301356",
     "exception": false,
     "start_time": "2022-09-09T23:24:02.521236",
     "status": "completed"
    },
    "tags": []
   },
   "outputs": [
    {
     "name": "stdout",
     "output_type": "stream",
     "text": [
      "Epoch 1/10\n"
     ]
    },
    {
     "name": "stderr",
     "output_type": "stream",
     "text": [
      "2023-03-09 10:42:46.613668: W tensorflow/core/platform/profile_utils/cpu_utils.cc:128] Failed to get CPU frequency: 0 Hz\n"
     ]
    },
    {
     "name": "stdout",
     "output_type": "stream",
     "text": [
      "1060/1094 [============================>.] - ETA: 0s - loss: 16333.6621 - root_mean_squared_error: 127.8032"
     ]
    },
    {
     "name": "stderr",
     "output_type": "stream",
     "text": [
      "WARNING:absl:Found untraced functions such as lstm_cell_layer_call_fn, lstm_cell_layer_call_and_return_conditional_losses while saving (showing 2 of 2). These functions will not be directly callable after loading.\n"
     ]
    },
    {
     "name": "stdout",
     "output_type": "stream",
     "text": [
      "INFO:tensorflow:Assets written to: model1/assets\n"
     ]
    },
    {
     "name": "stderr",
     "output_type": "stream",
     "text": [
      "INFO:tensorflow:Assets written to: model1/assets\n"
     ]
    },
    {
     "name": "stdout",
     "output_type": "stream",
     "text": [
      "1094/1094 [==============================] - 5s 4ms/step - loss: 16214.4951 - root_mean_squared_error: 127.3362 - val_loss: 15316.8467 - val_root_mean_squared_error: 123.7612\n",
      "Epoch 2/10\n",
      "1076/1094 [============================>.] - ETA: 0s - loss: 13025.2646 - root_mean_squared_error: 114.1283"
     ]
    },
    {
     "name": "stderr",
     "output_type": "stream",
     "text": [
      "WARNING:absl:Found untraced functions such as lstm_cell_layer_call_fn, lstm_cell_layer_call_and_return_conditional_losses while saving (showing 2 of 2). These functions will not be directly callable after loading.\n"
     ]
    },
    {
     "name": "stdout",
     "output_type": "stream",
     "text": [
      "INFO:tensorflow:Assets written to: model1/assets\n"
     ]
    },
    {
     "name": "stderr",
     "output_type": "stream",
     "text": [
      "INFO:tensorflow:Assets written to: model1/assets\n"
     ]
    },
    {
     "name": "stdout",
     "output_type": "stream",
     "text": [
      "1094/1094 [==============================] - 4s 4ms/step - loss: 13002.0830 - root_mean_squared_error: 114.0267 - val_loss: 12137.2363 - val_root_mean_squared_error: 110.1691\n",
      "Epoch 3/10\n",
      "1054/1094 [===========================>..] - ETA: 0s - loss: 10094.8369 - root_mean_squared_error: 100.4731"
     ]
    },
    {
     "name": "stderr",
     "output_type": "stream",
     "text": [
      "WARNING:absl:Found untraced functions such as lstm_cell_layer_call_fn, lstm_cell_layer_call_and_return_conditional_losses while saving (showing 2 of 2). These functions will not be directly callable after loading.\n"
     ]
    },
    {
     "name": "stdout",
     "output_type": "stream",
     "text": [
      "INFO:tensorflow:Assets written to: model1/assets\n"
     ]
    },
    {
     "name": "stderr",
     "output_type": "stream",
     "text": [
      "INFO:tensorflow:Assets written to: model1/assets\n"
     ]
    },
    {
     "name": "stdout",
     "output_type": "stream",
     "text": [
      "1094/1094 [==============================] - 4s 4ms/step - loss: 10033.6338 - root_mean_squared_error: 100.1680 - val_loss: 9246.6475 - val_root_mean_squared_error: 96.1595\n",
      "Epoch 4/10\n",
      "1055/1094 [===========================>..] - ETA: 0s - loss: 7455.2339 - root_mean_squared_error: 86.3437"
     ]
    },
    {
     "name": "stderr",
     "output_type": "stream",
     "text": [
      "WARNING:absl:Found untraced functions such as lstm_cell_layer_call_fn, lstm_cell_layer_call_and_return_conditional_losses while saving (showing 2 of 2). These functions will not be directly callable after loading.\n"
     ]
    },
    {
     "name": "stdout",
     "output_type": "stream",
     "text": [
      "INFO:tensorflow:Assets written to: model1/assets\n"
     ]
    },
    {
     "name": "stderr",
     "output_type": "stream",
     "text": [
      "INFO:tensorflow:Assets written to: model1/assets\n"
     ]
    },
    {
     "name": "stdout",
     "output_type": "stream",
     "text": [
      "1094/1094 [==============================] - 4s 4ms/step - loss: 7467.2969 - root_mean_squared_error: 86.4135 - val_loss: 6855.0420 - val_root_mean_squared_error: 82.7952\n",
      "Epoch 5/10\n",
      "1060/1094 [============================>.] - ETA: 0s - loss: 5501.6118 - root_mean_squared_error: 74.1729"
     ]
    },
    {
     "name": "stderr",
     "output_type": "stream",
     "text": [
      "WARNING:absl:Found untraced functions such as lstm_cell_layer_call_fn, lstm_cell_layer_call_and_return_conditional_losses while saving (showing 2 of 2). These functions will not be directly callable after loading.\n"
     ]
    },
    {
     "name": "stdout",
     "output_type": "stream",
     "text": [
      "INFO:tensorflow:Assets written to: model1/assets\n"
     ]
    },
    {
     "name": "stderr",
     "output_type": "stream",
     "text": [
      "INFO:tensorflow:Assets written to: model1/assets\n"
     ]
    },
    {
     "name": "stdout",
     "output_type": "stream",
     "text": [
      "1094/1094 [==============================] - 4s 4ms/step - loss: 5459.2886 - root_mean_squared_error: 73.8870 - val_loss: 5066.8604 - val_root_mean_squared_error: 71.1819\n",
      "Epoch 6/10\n",
      "1086/1094 [============================>.] - ETA: 0s - loss: 4001.9382 - root_mean_squared_error: 63.2609"
     ]
    },
    {
     "name": "stderr",
     "output_type": "stream",
     "text": [
      "WARNING:absl:Found untraced functions such as lstm_cell_layer_call_fn, lstm_cell_layer_call_and_return_conditional_losses while saving (showing 2 of 2). These functions will not be directly callable after loading.\n"
     ]
    },
    {
     "name": "stdout",
     "output_type": "stream",
     "text": [
      "INFO:tensorflow:Assets written to: model1/assets\n"
     ]
    },
    {
     "name": "stderr",
     "output_type": "stream",
     "text": [
      "INFO:tensorflow:Assets written to: model1/assets\n"
     ]
    },
    {
     "name": "stdout",
     "output_type": "stream",
     "text": [
      "1094/1094 [==============================] - 4s 4ms/step - loss: 3992.3113 - root_mean_squared_error: 63.1847 - val_loss: 3751.7795 - val_root_mean_squared_error: 61.2518\n",
      "Epoch 7/10\n",
      "1090/1094 [============================>.] - ETA: 0s - loss: 2942.9265 - root_mean_squared_error: 54.2487"
     ]
    },
    {
     "name": "stderr",
     "output_type": "stream",
     "text": [
      "WARNING:absl:Found untraced functions such as lstm_cell_layer_call_fn, lstm_cell_layer_call_and_return_conditional_losses while saving (showing 2 of 2). These functions will not be directly callable after loading.\n"
     ]
    },
    {
     "name": "stdout",
     "output_type": "stream",
     "text": [
      "INFO:tensorflow:Assets written to: model1/assets\n"
     ]
    },
    {
     "name": "stderr",
     "output_type": "stream",
     "text": [
      "INFO:tensorflow:Assets written to: model1/assets\n"
     ]
    },
    {
     "name": "stdout",
     "output_type": "stream",
     "text": [
      "1094/1094 [==============================] - 4s 4ms/step - loss: 2946.6111 - root_mean_squared_error: 54.2827 - val_loss: 2795.0635 - val_root_mean_squared_error: 52.8684\n",
      "Epoch 8/10\n",
      "1055/1094 [===========================>..] - ETA: 0s - loss: 2206.1912 - root_mean_squared_error: 46.9701"
     ]
    },
    {
     "name": "stderr",
     "output_type": "stream",
     "text": [
      "WARNING:absl:Found untraced functions such as lstm_cell_layer_call_fn, lstm_cell_layer_call_and_return_conditional_losses while saving (showing 2 of 2). These functions will not be directly callable after loading.\n"
     ]
    },
    {
     "name": "stdout",
     "output_type": "stream",
     "text": [
      "INFO:tensorflow:Assets written to: model1/assets\n"
     ]
    },
    {
     "name": "stderr",
     "output_type": "stream",
     "text": [
      "INFO:tensorflow:Assets written to: model1/assets\n"
     ]
    },
    {
     "name": "stdout",
     "output_type": "stream",
     "text": [
      "1094/1094 [==============================] - 4s 4ms/step - loss: 2224.6267 - root_mean_squared_error: 47.1659 - val_loss: 2104.0823 - val_root_mean_squared_error: 45.8703\n",
      "Epoch 9/10\n",
      "1083/1094 [============================>.] - ETA: 0s - loss: 1740.3047 - root_mean_squared_error: 41.7170"
     ]
    },
    {
     "name": "stderr",
     "output_type": "stream",
     "text": [
      "WARNING:absl:Found untraced functions such as lstm_cell_layer_call_fn, lstm_cell_layer_call_and_return_conditional_losses while saving (showing 2 of 2). These functions will not be directly callable after loading.\n"
     ]
    },
    {
     "name": "stdout",
     "output_type": "stream",
     "text": [
      "INFO:tensorflow:Assets written to: model1/assets\n"
     ]
    },
    {
     "name": "stderr",
     "output_type": "stream",
     "text": [
      "INFO:tensorflow:Assets written to: model1/assets\n"
     ]
    },
    {
     "name": "stdout",
     "output_type": "stream",
     "text": [
      "1094/1094 [==============================] - 4s 4ms/step - loss: 1737.7471 - root_mean_squared_error: 41.6863 - val_loss: 1614.1957 - val_root_mean_squared_error: 40.1771\n",
      "Epoch 10/10\n",
      "1062/1094 [============================>.] - ETA: 0s - loss: 1420.6798 - root_mean_squared_error: 37.6919"
     ]
    },
    {
     "name": "stderr",
     "output_type": "stream",
     "text": [
      "WARNING:absl:Found untraced functions such as lstm_cell_layer_call_fn, lstm_cell_layer_call_and_return_conditional_losses while saving (showing 2 of 2). These functions will not be directly callable after loading.\n"
     ]
    },
    {
     "name": "stdout",
     "output_type": "stream",
     "text": [
      "INFO:tensorflow:Assets written to: model1/assets\n"
     ]
    },
    {
     "name": "stderr",
     "output_type": "stream",
     "text": [
      "INFO:tensorflow:Assets written to: model1/assets\n"
     ]
    },
    {
     "name": "stdout",
     "output_type": "stream",
     "text": [
      "\b\b\b\b\b\b\b\b\b\b\b\b\b\b\b\b\b\b\b\b\b\b\b\b\b\b\b\b\b\b\b\b\b\b\b\b\b\b\b\b\b\b\b\b\b\b\b\b\b\b\b\b\b\b\b\b\b\b\b\b\b\b\b\b\b\b\b\b\b\b\b\b\b\b\b\b\b\b\b\b\b\b\b\b\b\b\b\b\b\b\b\b\b\b\b\b\b\b\b\b\b\b\b\b\b\r\n",
      "1094/1094 [==============================] - 4s 4ms/step - loss: 1411.8401 - root_mean_squared_error: 37.5745 - val_loss: 1275.0240 - val_root_mean_squared_error: 35.7075\n"
     ]
    },
    {
     "data": {
      "text/plain": [
       "<keras.callbacks.History at 0x1600316f0>"
      ]
     },
     "execution_count": 15,
     "metadata": {},
     "output_type": "execute_result"
    }
   ],
   "source": [
    "model1.fit(X_train, y_train, validation_data = (X_val, y_val), epochs=10, verbose=1, callbacks=[cp])"
   ]
  },
  {
   "cell_type": "markdown",
   "id": "f305b9cd",
   "metadata": {
    "papermill": {
     "duration": 0.073506,
     "end_time": "2022-09-09T23:26:26.448260",
     "exception": false,
     "start_time": "2022-09-09T23:26:26.374754",
     "status": "completed"
    },
    "tags": []
   },
   "source": [
    "## Predictions vs Actual Training data"
   ]
  },
  {
   "cell_type": "code",
   "execution_count": 16,
   "id": "d5b1bc29",
   "metadata": {
    "execution": {
     "iopub.execute_input": "2022-09-09T23:26:26.597349Z",
     "iopub.status.busy": "2022-09-09T23:26:26.596532Z",
     "iopub.status.idle": "2022-09-09T23:26:31.110138Z",
     "shell.execute_reply": "2022-09-09T23:26:31.109011Z"
    },
    "papermill": {
     "duration": 4.591677,
     "end_time": "2022-09-09T23:26:31.112623",
     "exception": false,
     "start_time": "2022-09-09T23:26:26.520946",
     "status": "completed"
    },
    "tags": []
   },
   "outputs": [
    {
     "name": "stdout",
     "output_type": "stream",
     "text": [
      "1094/1094 [==============================] - 1s 479us/step\n"
     ]
    },
    {
     "data": {
      "text/html": [
       "<div>\n",
       "<style scoped>\n",
       "    .dataframe tbody tr th:only-of-type {\n",
       "        vertical-align: middle;\n",
       "    }\n",
       "\n",
       "    .dataframe tbody tr th {\n",
       "        vertical-align: top;\n",
       "    }\n",
       "\n",
       "    .dataframe thead th {\n",
       "        text-align: right;\n",
       "    }\n",
       "</style>\n",
       "<table border=\"1\" class=\"dataframe\">\n",
       "  <thead>\n",
       "    <tr style=\"text-align: right;\">\n",
       "      <th></th>\n",
       "      <th>Train Predictions</th>\n",
       "      <th>Actual</th>\n",
       "    </tr>\n",
       "  </thead>\n",
       "  <tbody>\n",
       "    <tr>\n",
       "      <th>0</th>\n",
       "      <td>115.109421</td>\n",
       "      <td>109.0</td>\n",
       "    </tr>\n",
       "    <tr>\n",
       "      <th>1</th>\n",
       "      <td>95.844048</td>\n",
       "      <td>105.0</td>\n",
       "    </tr>\n",
       "    <tr>\n",
       "      <th>2</th>\n",
       "      <td>100.993172</td>\n",
       "      <td>124.0</td>\n",
       "    </tr>\n",
       "    <tr>\n",
       "      <th>3</th>\n",
       "      <td>126.586044</td>\n",
       "      <td>120.0</td>\n",
       "    </tr>\n",
       "    <tr>\n",
       "      <th>4</th>\n",
       "      <td>115.648369</td>\n",
       "      <td>132.0</td>\n",
       "    </tr>\n",
       "  </tbody>\n",
       "</table>\n",
       "</div>"
      ],
      "text/plain": [
       "   Train Predictions  Actual\n",
       "0         115.109421   109.0\n",
       "1          95.844048   105.0\n",
       "2         100.993172   124.0\n",
       "3         126.586044   120.0\n",
       "4         115.648369   132.0"
      ]
     },
     "execution_count": 16,
     "metadata": {},
     "output_type": "execute_result"
    }
   ],
   "source": [
    "model1 = load_model('model1/')\n",
    "train_predictions = model1.predict(X_train).flatten()\n",
    "train_results = pd.DataFrame(data={'Train Predictions': train_predictions,\n",
    "                                  'Actual':y_train})\n",
    "train_results.head()"
   ]
  },
  {
   "cell_type": "code",
   "execution_count": 17,
   "id": "dcc1c54a",
   "metadata": {
    "execution": {
     "iopub.execute_input": "2022-09-09T23:26:31.256561Z",
     "iopub.status.busy": "2022-09-09T23:26:31.256114Z",
     "iopub.status.idle": "2022-09-09T23:26:31.457310Z",
     "shell.execute_reply": "2022-09-09T23:26:31.456093Z"
    },
    "papermill": {
     "duration": 0.276324,
     "end_time": "2022-09-09T23:26:31.460185",
     "exception": false,
     "start_time": "2022-09-09T23:26:31.183861",
     "status": "completed"
    },
    "tags": []
   },
   "outputs": [
    {
     "data": {
      "image/png": "[encoded data removed]",
      "text/plain": [
       "<Figure size 640x480 with 1 Axes>"
      ]
     },
     "metadata": {},
     "output_type": "display_data"
    }
   ],
   "source": [
    "plt.plot(train_results['Train Predictions'][:50])\n",
    "plt.plot(train_results['Actual'][:50], c='r');"
   ]
  },
  {
   "cell_type": "code",
   "execution_count": 18,
   "id": "bd2a715d",
   "metadata": {
    "execution": {
     "iopub.execute_input": "2022-09-09T23:26:31.609264Z",
     "iopub.status.busy": "2022-09-09T23:26:31.608480Z",
     "iopub.status.idle": "2022-09-09T23:26:31.616968Z",
     "shell.execute_reply": "2022-09-09T23:26:31.615806Z"
    },
    "papermill": {
     "duration": 0.085248,
     "end_time": "2022-09-09T23:26:31.619235",
     "exception": false,
     "start_time": "2022-09-09T23:26:31.533987",
     "status": "completed"
    },
    "tags": []
   },
   "outputs": [
    {
     "name": "stdout",
     "output_type": "stream",
     "text": [
      "Validation RMSE = 35.890898449826786\n"
     ]
    }
   ],
   "source": [
    "train_rmse = np.sqrt(mse(y_train, train_predictions))\n",
    "print(\"Validation RMSE =\",train_rmse)"
   ]
  },
  {
   "cell_type": "markdown",
   "id": "1e151a13",
   "metadata": {
    "papermill": {
     "duration": 0.071338,
     "end_time": "2022-09-09T23:26:31.763247",
     "exception": false,
     "start_time": "2022-09-09T23:26:31.691909",
     "status": "completed"
    },
    "tags": []
   },
   "source": [
    "## Predictions vs Actual Validation data"
   ]
  },
  {
   "cell_type": "code",
   "execution_count": 19,
   "id": "ad781d05",
   "metadata": {
    "execution": {
     "iopub.execute_input": "2022-09-09T23:26:31.911126Z",
     "iopub.status.busy": "2022-09-09T23:26:31.910381Z",
     "iopub.status.idle": "2022-09-09T23:26:32.384248Z",
     "shell.execute_reply": "2022-09-09T23:26:32.383420Z"
    },
    "papermill": {
     "duration": 0.549908,
     "end_time": "2022-09-09T23:26:32.386483",
     "exception": false,
     "start_time": "2022-09-09T23:26:31.836575",
     "status": "completed"
    },
    "tags": []
   },
   "outputs": [
    {
     "name": "stdout",
     "output_type": "stream",
     "text": [
      "275/275 [==============================] - 0s 521us/step\n"
     ]
    },
    {
     "data": {
      "text/html": [
       "<div>\n",
       "<style scoped>\n",
       "    .dataframe tbody tr th:only-of-type {\n",
       "        vertical-align: middle;\n",
       "    }\n",
       "\n",
       "    .dataframe tbody tr th {\n",
       "        vertical-align: top;\n",
       "    }\n",
       "\n",
       "    .dataframe thead th {\n",
       "        text-align: right;\n",
       "    }\n",
       "</style>\n",
       "<table border=\"1\" class=\"dataframe\">\n",
       "  <thead>\n",
       "    <tr style=\"text-align: right;\">\n",
       "      <th></th>\n",
       "      <th>Val Predictions</th>\n",
       "      <th>Actual</th>\n",
       "    </tr>\n",
       "  </thead>\n",
       "  <tbody>\n",
       "    <tr>\n",
       "      <th>0</th>\n",
       "      <td>42.296715</td>\n",
       "      <td>27.0</td>\n",
       "    </tr>\n",
       "    <tr>\n",
       "      <th>1</th>\n",
       "      <td>25.569708</td>\n",
       "      <td>25.0</td>\n",
       "    </tr>\n",
       "    <tr>\n",
       "      <th>2</th>\n",
       "      <td>23.924700</td>\n",
       "      <td>25.0</td>\n",
       "    </tr>\n",
       "    <tr>\n",
       "      <th>3</th>\n",
       "      <td>26.366285</td>\n",
       "      <td>25.0</td>\n",
       "    </tr>\n",
       "    <tr>\n",
       "      <th>4</th>\n",
       "      <td>26.383265</td>\n",
       "      <td>25.0</td>\n",
       "    </tr>\n",
       "  </tbody>\n",
       "</table>\n",
       "</div>"
      ],
      "text/plain": [
       "   Val Predictions  Actual\n",
       "0        42.296715    27.0\n",
       "1        25.569708    25.0\n",
       "2        23.924700    25.0\n",
       "3        26.366285    25.0\n",
       "4        26.383265    25.0"
      ]
     },
     "execution_count": 19,
     "metadata": {},
     "output_type": "execute_result"
    }
   ],
   "source": [
    "val_predictions = model1.predict(X_val).flatten()\n",
    "val_results = pd.DataFrame(data={'Val Predictions': val_predictions,\n",
    "                                  'Actual':y_val})\n",
    "val_results.head()"
   ]
  },
  {
   "cell_type": "code",
   "execution_count": 20,
   "id": "d3094e48",
   "metadata": {
    "execution": {
     "iopub.execute_input": "2022-09-09T23:26:32.531614Z",
     "iopub.status.busy": "2022-09-09T23:26:32.530536Z",
     "iopub.status.idle": "2022-09-09T23:26:32.712275Z",
     "shell.execute_reply": "2022-09-09T23:26:32.711438Z"
    },
    "papermill": {
     "duration": 0.256284,
     "end_time": "2022-09-09T23:26:32.714552",
     "exception": false,
     "start_time": "2022-09-09T23:26:32.458268",
     "status": "completed"
    },
    "tags": []
   },
   "outputs": [
    {
     "data": {
      "text/plain": [
       "[<matplotlib.lines.Line2D at 0x165e845e0>]"
      ]
     },
     "execution_count": 20,
     "metadata": {},
     "output_type": "execute_result"
    },
    {
     "data": {
      "image/png": "[encoded data removed]",
      "text/plain": [
       "<Figure size 640x480 with 1 Axes>"
      ]
     },
     "metadata": {},
     "output_type": "display_data"
    }
   ],
   "source": [
    "plt.plot(val_results['Val Predictions'][:100])\n",
    "plt.plot(val_results['Actual'][:100], c='r')"
   ]
  },
  {
   "cell_type": "code",
   "execution_count": 21,
   "id": "07345feb",
   "metadata": {
    "execution": {
     "iopub.execute_input": "2022-09-09T23:26:32.862834Z",
     "iopub.status.busy": "2022-09-09T23:26:32.862112Z",
     "iopub.status.idle": "2022-09-09T23:26:32.867764Z",
     "shell.execute_reply": "2022-09-09T23:26:32.866994Z"
    },
    "papermill": {
     "duration": 0.082356,
     "end_time": "2022-09-09T23:26:32.869728",
     "exception": false,
     "start_time": "2022-09-09T23:26:32.787372",
     "status": "completed"
    },
    "tags": []
   },
   "outputs": [
    {
     "name": "stdout",
     "output_type": "stream",
     "text": [
      "Validation RMSE = 35.70747672299631\n"
     ]
    }
   ],
   "source": [
    "rmse = np.sqrt(mse(y_val, val_predictions))\n",
    "print(\"Validation RMSE =\"  ,rmse)"
   ]
  },
  {
   "cell_type": "markdown",
   "id": "5e501f97",
   "metadata": {
    "papermill": {
     "duration": 0.07145,
     "end_time": "2022-09-09T23:26:33.012560",
     "exception": false,
     "start_time": "2022-09-09T23:26:32.941110",
     "status": "completed"
    },
    "tags": []
   },
   "source": [
    "## Try on given test data"
   ]
  },
  {
   "cell_type": "code",
   "execution_count": 22,
   "id": "df1f8521",
   "metadata": {
    "execution": {
     "iopub.execute_input": "2022-09-09T23:26:33.157670Z",
     "iopub.status.busy": "2022-09-09T23:26:33.156946Z",
     "iopub.status.idle": "2022-09-09T23:26:33.180118Z",
     "shell.execute_reply": "2022-09-09T23:26:33.179318Z"
    },
    "papermill": {
     "duration": 0.09803,
     "end_time": "2022-09-09T23:26:33.182170",
     "exception": false,
     "start_time": "2022-09-09T23:26:33.084140",
     "status": "completed"
    },
    "tags": []
   },
   "outputs": [
    {
     "data": {
      "text/html": [
       "<div>\n",
       "<style scoped>\n",
       "    .dataframe tbody tr th:only-of-type {\n",
       "        vertical-align: middle;\n",
       "    }\n",
       "\n",
       "    .dataframe tbody tr th {\n",
       "        vertical-align: top;\n",
       "    }\n",
       "\n",
       "    .dataframe thead th {\n",
       "        text-align: right;\n",
       "    }\n",
       "</style>\n",
       "<table border=\"1\" class=\"dataframe\">\n",
       "  <thead>\n",
       "    <tr style=\"text-align: right;\">\n",
       "      <th></th>\n",
       "      <th>dew</th>\n",
       "      <th>temp</th>\n",
       "      <th>press</th>\n",
       "      <th>wnd_dir</th>\n",
       "      <th>wnd_spd</th>\n",
       "      <th>snow</th>\n",
       "      <th>rain</th>\n",
       "      <th>pollution</th>\n",
       "    </tr>\n",
       "  </thead>\n",
       "  <tbody>\n",
       "    <tr>\n",
       "      <th>0</th>\n",
       "      <td>-16</td>\n",
       "      <td>4</td>\n",
       "      <td>1027</td>\n",
       "      <td>SE</td>\n",
       "      <td>3.58</td>\n",
       "      <td>0</td>\n",
       "      <td>0</td>\n",
       "      <td>128</td>\n",
       "    </tr>\n",
       "    <tr>\n",
       "      <th>1</th>\n",
       "      <td>-17</td>\n",
       "      <td>5</td>\n",
       "      <td>1027</td>\n",
       "      <td>SE</td>\n",
       "      <td>7.60</td>\n",
       "      <td>0</td>\n",
       "      <td>0</td>\n",
       "      <td>77</td>\n",
       "    </tr>\n",
       "    <tr>\n",
       "      <th>2</th>\n",
       "      <td>-16</td>\n",
       "      <td>4</td>\n",
       "      <td>1027</td>\n",
       "      <td>SE</td>\n",
       "      <td>9.39</td>\n",
       "      <td>0</td>\n",
       "      <td>0</td>\n",
       "      <td>65</td>\n",
       "    </tr>\n",
       "    <tr>\n",
       "      <th>3</th>\n",
       "      <td>-16</td>\n",
       "      <td>1</td>\n",
       "      <td>1028</td>\n",
       "      <td>cv</td>\n",
       "      <td>0.89</td>\n",
       "      <td>0</td>\n",
       "      <td>0</td>\n",
       "      <td>79</td>\n",
       "    </tr>\n",
       "    <tr>\n",
       "      <th>4</th>\n",
       "      <td>-14</td>\n",
       "      <td>0</td>\n",
       "      <td>1028</td>\n",
       "      <td>NE</td>\n",
       "      <td>1.79</td>\n",
       "      <td>0</td>\n",
       "      <td>0</td>\n",
       "      <td>93</td>\n",
       "    </tr>\n",
       "  </tbody>\n",
       "</table>\n",
       "</div>"
      ],
      "text/plain": [
       "   dew  temp  press wnd_dir  wnd_spd  snow  rain  pollution\n",
       "0  -16     4   1027      SE     3.58     0     0        128\n",
       "1  -17     5   1027      SE     7.60     0     0         77\n",
       "2  -16     4   1027      SE     9.39     0     0         65\n",
       "3  -16     1   1028      cv     0.89     0     0         79\n",
       "4  -14     0   1028      NE     1.79     0     0         93"
      ]
     },
     "execution_count": 22,
     "metadata": {},
     "output_type": "execute_result"
    }
   ],
   "source": [
    "test = pd.read_csv('./data/pollution_test_data1.csv')\n",
    "test.head()"
   ]
  },
  {
   "cell_type": "code",
   "execution_count": 23,
   "id": "41e89a3d",
   "metadata": {
    "execution": {
     "iopub.execute_input": "2022-09-09T23:26:33.328836Z",
     "iopub.status.busy": "2022-09-09T23:26:33.328081Z",
     "iopub.status.idle": "2022-09-09T23:26:33.518370Z",
     "shell.execute_reply": "2022-09-09T23:26:33.517451Z"
    },
    "papermill": {
     "duration": 0.266328,
     "end_time": "2022-09-09T23:26:33.520549",
     "exception": false,
     "start_time": "2022-09-09T23:26:33.254221",
     "status": "completed"
    },
    "tags": []
   },
   "outputs": [
    {
     "data": {
      "text/plain": [
       "<AxesSubplot:>"
      ]
     },
     "execution_count": 23,
     "metadata": {},
     "output_type": "execute_result"
    },
    {
     "data": {
      "image/png": "[encoded data removed]",
      "text/plain": [
       "<Figure size 640x480 with 1 Axes>"
      ]
     },
     "metadata": {},
     "output_type": "display_data"
    }
   ],
   "source": [
    "target2 = test['pollution']\n",
    "target2.plot()"
   ]
  },
  {
   "cell_type": "code",
   "execution_count": 24,
   "id": "40175196",
   "metadata": {
    "execution": {
     "iopub.execute_input": "2022-09-09T23:26:33.669278Z",
     "iopub.status.busy": "2022-09-09T23:26:33.668568Z",
     "iopub.status.idle": "2022-09-09T23:26:33.684340Z",
     "shell.execute_reply": "2022-09-09T23:26:33.683529Z"
    },
    "papermill": {
     "duration": 0.093059,
     "end_time": "2022-09-09T23:26:33.686379",
     "exception": false,
     "start_time": "2022-09-09T23:26:33.593320",
     "status": "completed"
    },
    "tags": []
   },
   "outputs": [
    {
     "data": {
      "text/html": [
       "<div>\n",
       "<style scoped>\n",
       "    .dataframe tbody tr th:only-of-type {\n",
       "        vertical-align: middle;\n",
       "    }\n",
       "\n",
       "    .dataframe tbody tr th {\n",
       "        vertical-align: top;\n",
       "    }\n",
       "\n",
       "    .dataframe thead th {\n",
       "        text-align: right;\n",
       "    }\n",
       "</style>\n",
       "<table border=\"1\" class=\"dataframe\">\n",
       "  <thead>\n",
       "    <tr style=\"text-align: right;\">\n",
       "      <th></th>\n",
       "      <th>dew</th>\n",
       "      <th>temp</th>\n",
       "      <th>press</th>\n",
       "      <th>wnd_spd</th>\n",
       "      <th>snow</th>\n",
       "      <th>rain</th>\n",
       "      <th>pollution</th>\n",
       "      <th>wind_dir</th>\n",
       "    </tr>\n",
       "  </thead>\n",
       "  <tbody>\n",
       "    <tr>\n",
       "      <th>0</th>\n",
       "      <td>-16</td>\n",
       "      <td>4</td>\n",
       "      <td>1027</td>\n",
       "      <td>3.58</td>\n",
       "      <td>0</td>\n",
       "      <td>0</td>\n",
       "      <td>128</td>\n",
       "      <td>1</td>\n",
       "    </tr>\n",
       "    <tr>\n",
       "      <th>1</th>\n",
       "      <td>-17</td>\n",
       "      <td>5</td>\n",
       "      <td>1027</td>\n",
       "      <td>7.60</td>\n",
       "      <td>0</td>\n",
       "      <td>0</td>\n",
       "      <td>77</td>\n",
       "      <td>1</td>\n",
       "    </tr>\n",
       "    <tr>\n",
       "      <th>2</th>\n",
       "      <td>-16</td>\n",
       "      <td>4</td>\n",
       "      <td>1027</td>\n",
       "      <td>9.39</td>\n",
       "      <td>0</td>\n",
       "      <td>0</td>\n",
       "      <td>65</td>\n",
       "      <td>1</td>\n",
       "    </tr>\n",
       "    <tr>\n",
       "      <th>3</th>\n",
       "      <td>-16</td>\n",
       "      <td>1</td>\n",
       "      <td>1028</td>\n",
       "      <td>0.89</td>\n",
       "      <td>0</td>\n",
       "      <td>0</td>\n",
       "      <td>79</td>\n",
       "      <td>4</td>\n",
       "    </tr>\n",
       "    <tr>\n",
       "      <th>4</th>\n",
       "      <td>-14</td>\n",
       "      <td>0</td>\n",
       "      <td>1028</td>\n",
       "      <td>1.79</td>\n",
       "      <td>0</td>\n",
       "      <td>0</td>\n",
       "      <td>93</td>\n",
       "      <td>2</td>\n",
       "    </tr>\n",
       "  </tbody>\n",
       "</table>\n",
       "</div>"
      ],
      "text/plain": [
       "   dew  temp  press  wnd_spd  snow  rain  pollution  wind_dir\n",
       "0  -16     4   1027     3.58     0     0        128         1\n",
       "1  -17     5   1027     7.60     0     0         77         1\n",
       "2  -16     4   1027     9.39     0     0         65         1\n",
       "3  -16     1   1028     0.89     0     0         79         4\n",
       "4  -14     0   1028     1.79     0     0         93         2"
      ]
     },
     "execution_count": 24,
     "metadata": {},
     "output_type": "execute_result"
    }
   ],
   "source": [
    "def wind_encode(s):\n",
    "    if s == \"SE\":\n",
    "        return 1\n",
    "    elif s == \"NE\":\n",
    "        return 2\n",
    "    elif s == \"NW\":\n",
    "        return 3\n",
    "    else:\n",
    "        return 4\n",
    "\n",
    "test[\"wind_dir\"] = test[\"wnd_dir\"].apply(wind_encode)\n",
    "test = test.drop([\"wnd_dir\"], axis=1).head()\n",
    "test.head()"
   ]
  },
  {
   "cell_type": "code",
   "execution_count": 25,
   "id": "717e858d",
   "metadata": {
    "execution": {
     "iopub.execute_input": "2022-09-09T23:26:33.834812Z",
     "iopub.status.busy": "2022-09-09T23:26:33.833856Z",
     "iopub.status.idle": "2022-09-09T23:26:33.843765Z",
     "shell.execute_reply": "2022-09-09T23:26:33.842901Z"
    },
    "papermill": {
     "duration": 0.086529,
     "end_time": "2022-09-09T23:26:33.845920",
     "exception": false,
     "start_time": "2022-09-09T23:26:33.759391",
     "status": "completed"
    },
    "tags": []
   },
   "outputs": [
    {
     "data": {
      "text/plain": [
       "((341, 5, 1), (341,))"
      ]
     },
     "execution_count": 25,
     "metadata": {},
     "output_type": "execute_result"
    }
   ],
   "source": [
    "WINDOW_SIZE=5\n",
    "X_test, y_test = df_to_X_y(target2, WINDOW_SIZE)\n",
    "X_test.shape, y_test.shape"
   ]
  },
  {
   "cell_type": "code",
   "execution_count": 26,
   "id": "efe4904f",
   "metadata": {
    "execution": {
     "iopub.execute_input": "2022-09-09T23:26:34.062635Z",
     "iopub.status.busy": "2022-09-09T23:26:34.062023Z",
     "iopub.status.idle": "2022-09-09T23:26:34.573559Z",
     "shell.execute_reply": "2022-09-09T23:26:34.572646Z"
    },
    "papermill": {
     "duration": 0.589357,
     "end_time": "2022-09-09T23:26:34.575837",
     "exception": false,
     "start_time": "2022-09-09T23:26:33.986480",
     "status": "completed"
    },
    "tags": []
   },
   "outputs": [
    {
     "name": "stdout",
     "output_type": "stream",
     "text": [
      "11/11 [==============================] - 0s 784us/step\n"
     ]
    },
    {
     "data": {
      "text/html": [
       "<div>\n",
       "<style scoped>\n",
       "    .dataframe tbody tr th:only-of-type {\n",
       "        vertical-align: middle;\n",
       "    }\n",
       "\n",
       "    .dataframe tbody tr th {\n",
       "        vertical-align: top;\n",
       "    }\n",
       "\n",
       "    .dataframe thead th {\n",
       "        text-align: right;\n",
       "    }\n",
       "</style>\n",
       "<table border=\"1\" class=\"dataframe\">\n",
       "  <thead>\n",
       "    <tr style=\"text-align: right;\">\n",
       "      <th></th>\n",
       "      <th>Test Predictions</th>\n",
       "      <th>Actual</th>\n",
       "    </tr>\n",
       "  </thead>\n",
       "  <tbody>\n",
       "    <tr>\n",
       "      <th>0</th>\n",
       "      <td>95.916191</td>\n",
       "      <td>104</td>\n",
       "    </tr>\n",
       "    <tr>\n",
       "      <th>1</th>\n",
       "      <td>105.255920</td>\n",
       "      <td>202</td>\n",
       "    </tr>\n",
       "    <tr>\n",
       "      <th>2</th>\n",
       "      <td>201.844894</td>\n",
       "      <td>245</td>\n",
       "    </tr>\n",
       "    <tr>\n",
       "      <th>3</th>\n",
       "      <td>238.131287</td>\n",
       "      <td>225</td>\n",
       "    </tr>\n",
       "    <tr>\n",
       "      <th>4</th>\n",
       "      <td>214.194504</td>\n",
       "      <td>180</td>\n",
       "    </tr>\n",
       "  </tbody>\n",
       "</table>\n",
       "</div>"
      ],
      "text/plain": [
       "   Test Predictions  Actual\n",
       "0         95.916191     104\n",
       "1        105.255920     202\n",
       "2        201.844894     245\n",
       "3        238.131287     225\n",
       "4        214.194504     180"
      ]
     },
     "execution_count": 26,
     "metadata": {},
     "output_type": "execute_result"
    }
   ],
   "source": [
    "test_predictions = model1.predict(X_test).flatten()\n",
    "test_results = pd.DataFrame(data={'Test Predictions': test_predictions,\n",
    "                                  'Actual':y_test})\n",
    "test_results.head()"
   ]
  },
  {
   "cell_type": "code",
   "execution_count": 27,
   "id": "ca1a3060",
   "metadata": {
    "execution": {
     "iopub.execute_input": "2022-09-09T23:26:34.726839Z",
     "iopub.status.busy": "2022-09-09T23:26:34.726060Z",
     "iopub.status.idle": "2022-09-09T23:26:34.908067Z",
     "shell.execute_reply": "2022-09-09T23:26:34.906926Z"
    },
    "papermill": {
     "duration": 0.260725,
     "end_time": "2022-09-09T23:26:34.910458",
     "exception": false,
     "start_time": "2022-09-09T23:26:34.649733",
     "status": "completed"
    },
    "tags": []
   },
   "outputs": [
    {
     "data": {
      "text/plain": [
       "[<matplotlib.lines.Line2D at 0x168edc460>]"
      ]
     },
     "execution_count": 27,
     "metadata": {},
     "output_type": "execute_result"
    },
    {
     "data": {
      "image/png": "[encoded data removed]",
      "text/plain": [
       "<Figure size 640x480 with 1 Axes>"
      ]
     },
     "metadata": {},
     "output_type": "display_data"
    }
   ],
   "source": [
    "plt.plot(test_results['Test Predictions'][:100])\n",
    "plt.plot(test_results['Actual'][:100], c='r')"
   ]
  },
  {
   "cell_type": "code",
   "execution_count": 28,
   "id": "5689fa87",
   "metadata": {
    "execution": {
     "iopub.execute_input": "2022-09-09T23:26:35.064414Z",
     "iopub.status.busy": "2022-09-09T23:26:35.063627Z",
     "iopub.status.idle": "2022-09-09T23:26:35.069734Z",
     "shell.execute_reply": "2022-09-09T23:26:35.068664Z"
    },
    "papermill": {
     "duration": 0.0867,
     "end_time": "2022-09-09T23:26:35.072210",
     "exception": false,
     "start_time": "2022-09-09T23:26:34.985510",
     "status": "completed"
    },
    "tags": []
   },
   "outputs": [
    {
     "name": "stdout",
     "output_type": "stream",
     "text": [
      "Validation RMSE = 32.4171546809721\n"
     ]
    }
   ],
   "source": [
    "rmse = np.sqrt(mse(y_test, test_predictions))\n",
    "print(\"Validation RMSE =\",rmse)"
   ]
  },
  {
   "cell_type": "code",
   "execution_count": 29,
   "id": "1de2ed2c",
   "metadata": {
    "execution": {
     "iopub.execute_input": "2022-09-09T23:26:35.223128Z",
     "iopub.status.busy": "2022-09-09T23:26:35.222376Z",
     "iopub.status.idle": "2022-09-09T23:26:35.230201Z",
     "shell.execute_reply": "2022-09-09T23:26:35.229010Z"
    },
    "papermill": {
     "duration": 0.08597,
     "end_time": "2022-09-09T23:26:35.232430",
     "exception": false,
     "start_time": "2022-09-09T23:26:35.146460",
     "status": "completed"
    },
    "tags": []
   },
   "outputs": [
    {
     "data": {
      "text/plain": [
       "0    128\n",
       "1     77\n",
       "2     65\n",
       "3     79\n",
       "4     93\n",
       "Name: pollution, dtype: int64"
      ]
     },
     "execution_count": 29,
     "metadata": {},
     "output_type": "execute_result"
    }
   ],
   "source": [
    "target2.head()"
   ]
  },
  {
   "cell_type": "code",
   "execution_count": 30,
   "id": "5de8991d",
   "metadata": {
    "execution": {
     "iopub.execute_input": "2022-09-09T23:26:35.383377Z",
     "iopub.status.busy": "2022-09-09T23:26:35.382661Z",
     "iopub.status.idle": "2022-09-09T23:26:35.389519Z",
     "shell.execute_reply": "2022-09-09T23:26:35.388361Z"
    },
    "papermill": {
     "duration": 0.085092,
     "end_time": "2022-09-09T23:26:35.391892",
     "exception": false,
     "start_time": "2022-09-09T23:26:35.306800",
     "status": "completed"
    },
    "tags": []
   },
   "outputs": [],
   "source": [
    "def plot_predictions1(model, X, y, start=0, end=100):\n",
    "    predictions = model.predict(X).flatten()\n",
    "    df = pd.DataFrame(data={'Predictions':predictions,\n",
    "                           'Actual': y})\n",
    "    plt.plot(df['Predictions'][start:end])\n",
    "    plt.plot(df['Actual'][start:end], c='r')\n",
    "    return df, np.sqrt(mse(y, predictions))"
   ]
  },
  {
   "cell_type": "code",
   "execution_count": 31,
   "id": "79a39a01",
   "metadata": {
    "execution": {
     "iopub.execute_input": "2022-09-09T23:26:35.542097Z",
     "iopub.status.busy": "2022-09-09T23:26:35.541687Z",
     "iopub.status.idle": "2022-09-09T23:26:35.805043Z",
     "shell.execute_reply": "2022-09-09T23:26:35.803741Z"
    },
    "papermill": {
     "duration": 0.341919,
     "end_time": "2022-09-09T23:26:35.807996",
     "exception": false,
     "start_time": "2022-09-09T23:26:35.466077",
     "status": "completed"
    },
    "tags": []
   },
   "outputs": [
    {
     "name": "stdout",
     "output_type": "stream",
     "text": [
      "11/11 [==============================] - 0s 813us/step\n"
     ]
    },
    {
     "data": {
      "text/plain": [
       "(     Predictions  Actual\n",
       " 0      95.916191     104\n",
       " 1     105.255920     202\n",
       " 2     201.844894     245\n",
       " 3     238.131287     225\n",
       " 4     214.194504     180\n",
       " ..           ...     ...\n",
       " 336    10.750286       8\n",
       " 337     9.466482      10\n",
       " 338    10.630943      10\n",
       " 339    10.876947       8\n",
       " 340     9.502650      12\n",
       " \n",
       " [341 rows x 2 columns],\n",
       " 32.4171546809721)"
      ]
     },
     "execution_count": 31,
     "metadata": {},
     "output_type": "execute_result"
    },
    {
     "data": {
      "image/png": "[encoded data removed]",
      "text/plain": [
       "<Figure size 640x480 with 1 Axes>"
      ]
     },
     "metadata": {},
     "output_type": "display_data"
    }
   ],
   "source": [
    "plot_predictions1(model1, X_test, y_test)"
   ]
  },
  {
   "cell_type": "code",
   "execution_count": 62,
   "id": "f9a983ff",
   "metadata": {},
   "outputs": [
    {
     "name": "stdout",
     "output_type": "stream",
     "text": [
      "11/11 [==============================] - 0s 977us/step\n"
     ]
    },
    {
     "data": {
      "text/html": [
       "<div>\n",
       "<style scoped>\n",
       "    .dataframe tbody tr th:only-of-type {\n",
       "        vertical-align: middle;\n",
       "    }\n",
       "\n",
       "    .dataframe tbody tr th {\n",
       "        vertical-align: top;\n",
       "    }\n",
       "\n",
       "    .dataframe thead th {\n",
       "        text-align: right;\n",
       "    }\n",
       "</style>\n",
       "<table border=\"1\" class=\"dataframe\">\n",
       "  <thead>\n",
       "    <tr style=\"text-align: right;\">\n",
       "      <th></th>\n",
       "      <th>Val Predictions</th>\n",
       "      <th>Actual</th>\n",
       "    </tr>\n",
       "  </thead>\n",
       "  <tbody>\n",
       "    <tr>\n",
       "      <th>0</th>\n",
       "      <td>95.916191</td>\n",
       "      <td>104</td>\n",
       "    </tr>\n",
       "    <tr>\n",
       "      <th>1</th>\n",
       "      <td>105.255920</td>\n",
       "      <td>202</td>\n",
       "    </tr>\n",
       "    <tr>\n",
       "      <th>2</th>\n",
       "      <td>201.844894</td>\n",
       "      <td>245</td>\n",
       "    </tr>\n",
       "    <tr>\n",
       "      <th>3</th>\n",
       "      <td>238.131287</td>\n",
       "      <td>225</td>\n",
       "    </tr>\n",
       "    <tr>\n",
       "      <th>4</th>\n",
       "      <td>214.194504</td>\n",
       "      <td>180</td>\n",
       "    </tr>\n",
       "  </tbody>\n",
       "</table>\n",
       "</div>"
      ],
      "text/plain": [
       "   Val Predictions  Actual\n",
       "0        95.916191     104\n",
       "1       105.255920     202\n",
       "2       201.844894     245\n",
       "3       238.131287     225\n",
       "4       214.194504     180"
      ]
     },
     "execution_count": 62,
     "metadata": {},
     "output_type": "execute_result"
    }
   ],
   "source": [
    "test_predictions = model1.predict(X_test).flatten()\n",
    "test_results = pd.DataFrame(data={'Val Predictions': test_predictions,\n",
    "                                  'Actual':y_test})\n",
    "test_results.head()"
   ]
  },
  {
   "cell_type": "code",
   "execution_count": 67,
   "id": "c08b36ef",
   "metadata": {},
   "outputs": [
    {
     "name": "stdout",
     "output_type": "stream",
     "text": [
      "Validation RMSE = 35.8909\n"
     ]
    }
   ],
   "source": [
    "test_rmse = np.sqrt(mse(y_test, test_predictions))\n",
    "print(\"Validation RMSE =\",round(train_rmse, 4))"
   ]
  },
  {
   "cell_type": "markdown",
   "id": "8e6b0d2d",
   "metadata": {
    "papermill": {
     "duration": 0.074136,
     "end_time": "2022-09-09T23:26:35.957228",
     "exception": false,
     "start_time": "2022-09-09T23:26:35.883092",
     "status": "completed"
    },
    "tags": []
   },
   "source": [
    "## Create a very simple model using Conv1D\n"
   ]
  },
  {
   "cell_type": "code",
   "execution_count": 61,
   "id": "a7943e16",
   "metadata": {
    "execution": {
     "iopub.execute_input": "2022-09-09T23:26:36.108350Z",
     "iopub.status.busy": "2022-09-09T23:26:36.107090Z",
     "iopub.status.idle": "2022-09-09T23:26:36.152971Z",
     "shell.execute_reply": "2022-09-09T23:26:36.151641Z"
    },
    "papermill": {
     "duration": 0.12394,
     "end_time": "2022-09-09T23:26:36.155438",
     "exception": false,
     "start_time": "2022-09-09T23:26:36.031498",
     "status": "completed"
    },
    "tags": []
   },
   "outputs": [],
   "source": [
    "# model2 = Sequential()\n",
    "# model2.add(InputLayer((5,1)))\n",
    "# model2.add(Conv1D(64, kernel_size=2)) \n",
    "# model2.add(Flatten())\n",
    "# model2.add(Dense(8, 'relu'))\n",
    "# model2.add(Dense(1, 'linear'))\n",
    "\n",
    "# model2.summary()"
   ]
  },
  {
   "cell_type": "code",
   "execution_count": 58,
   "id": "ad7248de",
   "metadata": {
    "execution": {
     "iopub.execute_input": "2022-09-09T23:26:36.307633Z",
     "iopub.status.busy": "2022-09-09T23:26:36.306548Z",
     "iopub.status.idle": "2022-09-09T23:26:36.321221Z",
     "shell.execute_reply": "2022-09-09T23:26:36.320047Z"
    },
    "papermill": {
     "duration": 0.093849,
     "end_time": "2022-09-09T23:26:36.323920",
     "exception": false,
     "start_time": "2022-09-09T23:26:36.230071",
     "status": "completed"
    },
    "tags": []
   },
   "outputs": [],
   "source": [
    "# cp2 = ModelCheckpoint('model2/', save_best_only=True)\n",
    "# model2.compile(loss=MeanSquaredError(), optimizer=Adam(learning_rate=0.0001), metrics=[RootMeanSquaredError()])"
   ]
  },
  {
   "cell_type": "code",
   "execution_count": 59,
   "id": "5e214da4",
   "metadata": {
    "execution": {
     "iopub.execute_input": "2022-09-09T23:26:36.475890Z",
     "iopub.status.busy": "2022-09-09T23:26:36.475396Z",
     "iopub.status.idle": "2022-09-09T23:27:04.762039Z",
     "shell.execute_reply": "2022-09-09T23:27:04.760498Z"
    },
    "papermill": {
     "duration": 28.365472,
     "end_time": "2022-09-09T23:27:04.764628",
     "exception": false,
     "start_time": "2022-09-09T23:26:36.399156",
     "status": "completed"
    },
    "tags": []
   },
   "outputs": [],
   "source": [
    "# model2.fit(X_train, y_train, validation_data = (X_val, y_val), epochs=10, verbose=1, callbacks=[cp2])"
   ]
  },
  {
   "cell_type": "code",
   "execution_count": 60,
   "id": "e259c617",
   "metadata": {
    "execution": {
     "iopub.execute_input": "2022-09-09T23:27:04.966057Z",
     "iopub.status.busy": "2022-09-09T23:27:04.965649Z",
     "iopub.status.idle": "2022-09-09T23:27:05.280426Z",
     "shell.execute_reply": "2022-09-09T23:27:05.279339Z"
    },
    "papermill": {
     "duration": 0.418317,
     "end_time": "2022-09-09T23:27:05.283008",
     "exception": false,
     "start_time": "2022-09-09T23:27:04.864691",
     "status": "completed"
    },
    "tags": []
   },
   "outputs": [
    {
     "name": "stdout",
     "output_type": "stream",
     "text": [
      "11/11 [==============================] - 0s 941us/step\n"
     ]
    },
    {
     "data": {
      "text/plain": [
       "(     Predictions  Actual\n",
       " 0      95.916191     104\n",
       " 1     105.255920     202\n",
       " 2     201.844894     245\n",
       " 3     238.131287     225\n",
       " 4     214.194504     180\n",
       " ..           ...     ...\n",
       " 336    10.750286       8\n",
       " 337     9.466482      10\n",
       " 338    10.630943      10\n",
       " 339    10.876947       8\n",
       " 340     9.502650      12\n",
       " \n",
       " [341 rows x 2 columns],\n",
       " 32.4171546809721)"
      ]
     },
     "execution_count": 60,
     "metadata": {},
     "output_type": "execute_result"
    },
    {
     "data": {
      "image/png": "[encoded data removed]",
      "text/plain": [
       "<Figure size 640x480 with 1 Axes>"
      ]
     },
     "metadata": {},
     "output_type": "display_data"
    }
   ],
   "source": [
    "# plot_predictions1(model1, X_test, y_test)"
   ]
  },
  {
   "cell_type": "code",
   "execution_count": 64,
   "id": "a409f96b",
   "metadata": {},
   "outputs": [],
   "source": [
    "# test_predictions = model1.predict(X_test).flatten()\n",
    "# test_results = pd.DataFrame(data={'Val Predictions': test_predictions,\n",
    "#                                   'Actual':y_test})\n",
    "# test_results.head()"
   ]
  },
  {
   "cell_type": "code",
   "execution_count": 63,
   "id": "cb2748a3",
   "metadata": {},
   "outputs": [],
   "source": [
    "# test_rmse = np.sqrt(mse(y_test, test_predictions))\n",
    "# print(\"Validation RMSE =\",train_rmse)"
   ]
  },
  {
   "cell_type": "code",
   "execution_count": null,
   "id": "3672c737",
   "metadata": {},
   "outputs": [],
   "source": []
  }
 ],
 "metadata": {
  "kernelspec": {
   "display_name": "Python 3 (ipykernel)",
   "language": "python",
   "name": "python3"
  },
  "language_info": {
   "codemirror_mode": {
    "name": "ipython",
    "version": 3
   },
   "file_extension": ".py",
   "mimetype": "text/x-python",
   "name": "python",
   "nbconvert_exporter": "python",
   "pygments_lexer": "ipython3",
   "version": "3.10.8"
  },
  "papermill": {
   "default_parameters": {},
   "duration": 470.482955,
   "end_time": "2022-09-09T23:31:32.925795",
   "environment_variables": {},
   "exception": null,
   "input_path": "__notebook__.ipynb",
   "output_path": "__notebook__.ipynb",
   "parameters": {},
   "start_time": "2022-09-09T23:23:42.442840",
   "version": "2.3.4"
  }
 },
 "nbformat": 4,
 "nbformat_minor": 5
}
